{
 "cells": [
  {
   "cell_type": "markdown",
   "id": "2bc18994",
   "metadata": {},
   "source": [
    "# 逻辑回归"
   ]
  },
  {
   "cell_type": "markdown",
   "id": "d6cc7555",
   "metadata": {},
   "source": [
    "## 逻辑回归的损失函数"
   ]
  },
  {
   "cell_type": "markdown",
   "id": "d864f748",
   "metadata": {},
   "source": [
    "## 多元逻辑回归"
   ]
  },
  {
   "cell_type": "markdown",
   "id": "fbec86f8",
   "metadata": {},
   "source": [
    "## 数据集的划分"
   ]
  },
  {
   "cell_type": "markdown",
   "id": "764994f5",
   "metadata": {},
   "source": [
    "## 欠拟合和过拟合"
   ]
  },
  {
   "cell_type": "markdown",
   "id": "d243030f",
   "metadata": {},
   "source": [
    "## 二分类模型的评价指标"
   ]
  },
  {
   "cell_type": "markdown",
   "id": "252cf351",
   "metadata": {},
   "source": [
    "## 梯度下降算法的改进"
   ]
  },
  {
   "cell_type": "markdown",
   "id": "81137a8a",
   "metadata": {},
   "source": [
    "## 泰坦尼克号生存预测"
   ]
  },
  {
   "cell_type": "markdown",
   "id": "198f1ba7",
   "metadata": {},
   "source": [
    "## PyTorch里的Dataset和DataLoader"
   ]
  },
  {
   "cell_type": "markdown",
   "id": "0f1a9051",
   "metadata": {},
   "source": [
    "## 利用PyTorch定义逻辑回归模型"
   ]
  },
  {
   "cell_type": "markdown",
   "id": "cf24706d",
   "metadata": {},
   "source": [
    "## 用逻辑回归对Titanic数据进行训练"
   ]
  },
  {
   "cell_type": "markdown",
   "id": "8ecab3f5",
   "metadata": {},
   "source": []
  }
 ],
 "metadata": {
  "language_info": {
   "name": "python"
  }
 },
 "nbformat": 4,
 "nbformat_minor": 5
}

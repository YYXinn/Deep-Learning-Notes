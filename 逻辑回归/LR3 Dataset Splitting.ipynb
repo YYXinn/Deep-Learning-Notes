{
 "cells": [
  {
   "cell_type": "markdown",
   "id": "1bd152d5",
   "metadata": {},
   "source": [
    "# 数据集的划分"
   ]
  },
  {
   "cell_type": "markdown",
   "id": "0628addb",
   "metadata": {},
   "source": []
  }
 ],
 "metadata": {
  "language_info": {
   "name": "python"
  }
 },
 "nbformat": 4,
 "nbformat_minor": 5
}
